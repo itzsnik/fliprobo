{
 "cells": [
  {
   "cell_type": "raw",
   "metadata": {},
   "source": [
    "                                                Answers\n",
    " 1). C\n",
    " 2). B\n",
    " 3). C\n",
    " 4). A\n",
    " 5). D\n",
    " 6). C\n",
    " 7). A\n",
    " 8). C\n",
    " 9). A and C\n",
    " 10).A and B\n",
    " "
   ]
  },
  {
   "cell_type": "code",
   "execution_count": 5,
   "metadata": {},
   "outputs": [
    {
     "name": "stdout",
     "output_type": "stream",
     "text": [
      "Enter the number: 5\n",
      "Factorial : 120\n"
     ]
    }
   ],
   "source": [
    "# factorial of a number\n",
    "number=int(input('Enter the number: '))\n",
    "fact=1\n",
    "for i in range(1,number+1):\n",
    "    fact=fact*i\n",
    "print('Factorial :',fact)"
   ]
  },
  {
   "cell_type": "code",
   "execution_count": 13,
   "metadata": {},
   "outputs": [
    {
     "name": "stdout",
     "output_type": "stream",
     "text": [
      "Enter number: 29\n",
      "Prime number\n"
     ]
    }
   ],
   "source": [
    "# prime or composite number\n",
    "count=0\n",
    "num=int(input('Enter number: '))\n",
    "for i in range(1,num+1):\n",
    "    if num%i==0:\n",
    "        count+=1\n",
    "        \n",
    "if count>2:\n",
    "    print('Composite number')\n",
    "else:\n",
    "    print('Prime number')        "
   ]
  },
  {
   "cell_type": "code",
   "execution_count": 18,
   "metadata": {},
   "outputs": [
    {
     "name": "stdout",
     "output_type": "stream",
     "text": [
      "Enter string: 1221\n",
      "Palindrome\n"
     ]
    }
   ],
   "source": [
    "# palindrome string\n",
    "string=input('Enter string: ')\n",
    "l1=list(string)\n",
    "l2=l1[::-1]\n",
    "if l1==l2:\n",
    "    print('Palindrome')\n",
    "else:\n",
    "    print('Not palindrome')"
   ]
  },
  {
   "cell_type": "code",
   "execution_count": 21,
   "metadata": {},
   "outputs": [
    {
     "name": "stdout",
     "output_type": "stream",
     "text": [
      "Enter first side: 3\n",
      "Enter second side: 4\n",
      "Third side of right angle triangle is:  5\n"
     ]
    }
   ],
   "source": [
    "# third side of right angled triangle\n",
    "import math\n",
    "side1=int(input('Enter first side: '))\n",
    "side2=int(input('Enter second side: '))\n",
    "side3=math.sqrt((side1*side1)+(side2*side2))\n",
    "print('Third side of right angle triangle is: ',int(side3))"
   ]
  },
  {
   "cell_type": "code",
   "execution_count": 28,
   "metadata": {},
   "outputs": [
    {
     "name": "stdout",
     "output_type": "stream",
     "text": [
      "Enter any thing: hghghffhfhf\n",
      "Frequency of Character in a given string is: \n",
      "  {'h': 5, 'g': 2, 'f': 4}\n"
     ]
    }
   ],
   "source": [
    "string=input('Enter any thing: ')\n",
    "freq={}\n",
    "for i in string:\n",
    "    if i in freq:\n",
    "        freq[i]+=1\n",
    "    else:\n",
    "        freq[i]=1\n",
    "        \n",
    "print('Frequency of Character in a given string is: \\n ',freq)"
   ]
  },
  {
   "cell_type": "code",
   "execution_count": null,
   "metadata": {},
   "outputs": [],
   "source": []
  }
 ],
 "metadata": {
  "kernelspec": {
   "display_name": "Python 3",
   "language": "python",
   "name": "python3"
  },
  "language_info": {
   "codemirror_mode": {
    "name": "ipython",
    "version": 3
   },
   "file_extension": ".py",
   "mimetype": "text/x-python",
   "name": "python",
   "nbconvert_exporter": "python",
   "pygments_lexer": "ipython3",
   "version": "3.8.5"
  }
 },
 "nbformat": 4,
 "nbformat_minor": 4
}
